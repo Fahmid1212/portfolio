{
 "cells": [
  {
   "cell_type": "code",
   "execution_count": 2,
   "id": "9227040e",
   "metadata": {},
   "outputs": [],
   "source": [
    "import numpy as np\n",
    "import pandas as pd"
   ]
  },
  {
   "cell_type": "code",
   "execution_count": 3,
   "id": "343c5e9c",
   "metadata": {},
   "outputs": [],
   "source": [
    "vg=pd.read_csv('video_games.csv')"
   ]
  },
  {
   "cell_type": "code",
   "execution_count": 4,
   "id": "697e3ca8",
   "metadata": {},
   "outputs": [
    {
     "data": {
      "text/html": [
       "<div>\n",
       "<style scoped>\n",
       "    .dataframe tbody tr th:only-of-type {\n",
       "        vertical-align: middle;\n",
       "    }\n",
       "\n",
       "    .dataframe tbody tr th {\n",
       "        vertical-align: top;\n",
       "    }\n",
       "\n",
       "    .dataframe thead th {\n",
       "        text-align: right;\n",
       "    }\n",
       "</style>\n",
       "<table border=\"1\" class=\"dataframe\">\n",
       "  <thead>\n",
       "    <tr style=\"text-align: right;\">\n",
       "      <th></th>\n",
       "      <th>Title</th>\n",
       "      <th>Features.Handheld?</th>\n",
       "      <th>Features.Max Players</th>\n",
       "      <th>Features.Multiplatform?</th>\n",
       "      <th>Features.Online?</th>\n",
       "      <th>Metadata.Genres</th>\n",
       "      <th>Metadata.Licensed?</th>\n",
       "      <th>Metadata.Publishers</th>\n",
       "      <th>Metadata.Sequel?</th>\n",
       "      <th>Metrics.Review Score</th>\n",
       "      <th>...</th>\n",
       "      <th>Length.Main + Extras.Average</th>\n",
       "      <th>Length.Main + Extras.Leisure</th>\n",
       "      <th>Length.Main + Extras.Median</th>\n",
       "      <th>Length.Main + Extras.Polled</th>\n",
       "      <th>Length.Main + Extras.Rushed</th>\n",
       "      <th>Length.Main Story.Average</th>\n",
       "      <th>Length.Main Story.Leisure</th>\n",
       "      <th>Length.Main Story.Median</th>\n",
       "      <th>Length.Main Story.Polled</th>\n",
       "      <th>Length.Main Story.Rushed</th>\n",
       "    </tr>\n",
       "  </thead>\n",
       "  <tbody>\n",
       "    <tr>\n",
       "      <th>0</th>\n",
       "      <td>Super Mario 64 DS</td>\n",
       "      <td>True</td>\n",
       "      <td>1</td>\n",
       "      <td>True</td>\n",
       "      <td>True</td>\n",
       "      <td>Action</td>\n",
       "      <td>True</td>\n",
       "      <td>Nintendo</td>\n",
       "      <td>True</td>\n",
       "      <td>85</td>\n",
       "      <td>...</td>\n",
       "      <td>24.916667</td>\n",
       "      <td>29.966667</td>\n",
       "      <td>25.000000</td>\n",
       "      <td>16</td>\n",
       "      <td>18.333333</td>\n",
       "      <td>14.333333</td>\n",
       "      <td>18.316667</td>\n",
       "      <td>14.500000</td>\n",
       "      <td>21</td>\n",
       "      <td>9.700000</td>\n",
       "    </tr>\n",
       "    <tr>\n",
       "      <th>1</th>\n",
       "      <td>Lumines: Puzzle Fusion</td>\n",
       "      <td>True</td>\n",
       "      <td>1</td>\n",
       "      <td>True</td>\n",
       "      <td>True</td>\n",
       "      <td>Strategy</td>\n",
       "      <td>True</td>\n",
       "      <td>Ubisoft</td>\n",
       "      <td>True</td>\n",
       "      <td>89</td>\n",
       "      <td>...</td>\n",
       "      <td>9.750000</td>\n",
       "      <td>9.866667</td>\n",
       "      <td>9.750000</td>\n",
       "      <td>2</td>\n",
       "      <td>9.616667</td>\n",
       "      <td>10.333333</td>\n",
       "      <td>11.083333</td>\n",
       "      <td>10.000000</td>\n",
       "      <td>3</td>\n",
       "      <td>9.583333</td>\n",
       "    </tr>\n",
       "    <tr>\n",
       "      <th>2</th>\n",
       "      <td>WarioWare Touched!</td>\n",
       "      <td>True</td>\n",
       "      <td>2</td>\n",
       "      <td>True</td>\n",
       "      <td>True</td>\n",
       "      <td>Action,Racing / Driving,Sports</td>\n",
       "      <td>True</td>\n",
       "      <td>Nintendo</td>\n",
       "      <td>True</td>\n",
       "      <td>81</td>\n",
       "      <td>...</td>\n",
       "      <td>3.850000</td>\n",
       "      <td>5.666667</td>\n",
       "      <td>3.333333</td>\n",
       "      <td>11</td>\n",
       "      <td>2.783333</td>\n",
       "      <td>1.916667</td>\n",
       "      <td>2.933333</td>\n",
       "      <td>1.833333</td>\n",
       "      <td>30</td>\n",
       "      <td>1.433333</td>\n",
       "    </tr>\n",
       "    <tr>\n",
       "      <th>3</th>\n",
       "      <td>Hot Shots Golf: Open Tee</td>\n",
       "      <td>True</td>\n",
       "      <td>1</td>\n",
       "      <td>True</td>\n",
       "      <td>True</td>\n",
       "      <td>Sports</td>\n",
       "      <td>True</td>\n",
       "      <td>Sony</td>\n",
       "      <td>True</td>\n",
       "      <td>81</td>\n",
       "      <td>...</td>\n",
       "      <td>0.000000</td>\n",
       "      <td>0.000000</td>\n",
       "      <td>0.000000</td>\n",
       "      <td>0</td>\n",
       "      <td>0.000000</td>\n",
       "      <td>0.000000</td>\n",
       "      <td>0.000000</td>\n",
       "      <td>0.000000</td>\n",
       "      <td>0</td>\n",
       "      <td>0.000000</td>\n",
       "    </tr>\n",
       "    <tr>\n",
       "      <th>4</th>\n",
       "      <td>Spider-Man 2</td>\n",
       "      <td>True</td>\n",
       "      <td>1</td>\n",
       "      <td>True</td>\n",
       "      <td>True</td>\n",
       "      <td>Action</td>\n",
       "      <td>True</td>\n",
       "      <td>Activision</td>\n",
       "      <td>True</td>\n",
       "      <td>61</td>\n",
       "      <td>...</td>\n",
       "      <td>12.766667</td>\n",
       "      <td>17.316667</td>\n",
       "      <td>12.500000</td>\n",
       "      <td>12</td>\n",
       "      <td>10.483333</td>\n",
       "      <td>8.350000</td>\n",
       "      <td>11.083333</td>\n",
       "      <td>8.000000</td>\n",
       "      <td>23</td>\n",
       "      <td>5.333333</td>\n",
       "    </tr>\n",
       "  </tbody>\n",
       "</table>\n",
       "<p>5 rows × 36 columns</p>\n",
       "</div>"
      ],
      "text/plain": [
       "                      Title  Features.Handheld?  Features.Max Players  \\\n",
       "0         Super Mario 64 DS                True                     1   \n",
       "1    Lumines: Puzzle Fusion                True                     1   \n",
       "2        WarioWare Touched!                True                     2   \n",
       "3  Hot Shots Golf: Open Tee                True                     1   \n",
       "4              Spider-Man 2                True                     1   \n",
       "\n",
       "   Features.Multiplatform?  Features.Online?                 Metadata.Genres  \\\n",
       "0                     True              True                          Action   \n",
       "1                     True              True                        Strategy   \n",
       "2                     True              True  Action,Racing / Driving,Sports   \n",
       "3                     True              True                          Sports   \n",
       "4                     True              True                          Action   \n",
       "\n",
       "   Metadata.Licensed? Metadata.Publishers  Metadata.Sequel?  \\\n",
       "0                True            Nintendo              True   \n",
       "1                True             Ubisoft              True   \n",
       "2                True            Nintendo              True   \n",
       "3                True                Sony              True   \n",
       "4                True          Activision              True   \n",
       "\n",
       "   Metrics.Review Score  ...  Length.Main + Extras.Average  \\\n",
       "0                    85  ...                     24.916667   \n",
       "1                    89  ...                      9.750000   \n",
       "2                    81  ...                      3.850000   \n",
       "3                    81  ...                      0.000000   \n",
       "4                    61  ...                     12.766667   \n",
       "\n",
       "   Length.Main + Extras.Leisure Length.Main + Extras.Median  \\\n",
       "0                     29.966667                   25.000000   \n",
       "1                      9.866667                    9.750000   \n",
       "2                      5.666667                    3.333333   \n",
       "3                      0.000000                    0.000000   \n",
       "4                     17.316667                   12.500000   \n",
       "\n",
       "  Length.Main + Extras.Polled  Length.Main + Extras.Rushed  \\\n",
       "0                          16                    18.333333   \n",
       "1                           2                     9.616667   \n",
       "2                          11                     2.783333   \n",
       "3                           0                     0.000000   \n",
       "4                          12                    10.483333   \n",
       "\n",
       "   Length.Main Story.Average  Length.Main Story.Leisure  \\\n",
       "0                  14.333333                  18.316667   \n",
       "1                  10.333333                  11.083333   \n",
       "2                   1.916667                   2.933333   \n",
       "3                   0.000000                   0.000000   \n",
       "4                   8.350000                  11.083333   \n",
       "\n",
       "   Length.Main Story.Median  Length.Main Story.Polled  \\\n",
       "0                 14.500000                        21   \n",
       "1                 10.000000                         3   \n",
       "2                  1.833333                        30   \n",
       "3                  0.000000                         0   \n",
       "4                  8.000000                        23   \n",
       "\n",
       "   Length.Main Story.Rushed  \n",
       "0                  9.700000  \n",
       "1                  9.583333  \n",
       "2                  1.433333  \n",
       "3                  0.000000  \n",
       "4                  5.333333  \n",
       "\n",
       "[5 rows x 36 columns]"
      ]
     },
     "execution_count": 4,
     "metadata": {},
     "output_type": "execute_result"
    }
   ],
   "source": [
    "vg.head()"
   ]
  },
  {
   "cell_type": "code",
   "execution_count": 5,
   "id": "5d9c6766",
   "metadata": {},
   "outputs": [],
   "source": [
    "vg=vg[['Title','Release.Year','Features.Multiplatform?','Features.Online?','Metadata.Genres','Metadata.Licensed?','Metadata.Publishers','Metadata.Sequel?','Release.Console','Metrics.Review Score','Length.All PlayStyles.Average','Length.Completionists.Average','Length.Main + Extras.Average','Length.Main Story.Average','Metrics.Sales',]].copy()"
   ]
  },
  {
   "cell_type": "code",
   "execution_count": 6,
   "id": "84e0abe9",
   "metadata": {},
   "outputs": [
    {
     "data": {
      "text/html": [
       "<div>\n",
       "<style scoped>\n",
       "    .dataframe tbody tr th:only-of-type {\n",
       "        vertical-align: middle;\n",
       "    }\n",
       "\n",
       "    .dataframe tbody tr th {\n",
       "        vertical-align: top;\n",
       "    }\n",
       "\n",
       "    .dataframe thead th {\n",
       "        text-align: right;\n",
       "    }\n",
       "</style>\n",
       "<table border=\"1\" class=\"dataframe\">\n",
       "  <thead>\n",
       "    <tr style=\"text-align: right;\">\n",
       "      <th></th>\n",
       "      <th>Title</th>\n",
       "      <th>Release.Year</th>\n",
       "      <th>Features.Multiplatform?</th>\n",
       "      <th>Features.Online?</th>\n",
       "      <th>Metadata.Genres</th>\n",
       "      <th>Metadata.Licensed?</th>\n",
       "      <th>Metadata.Publishers</th>\n",
       "      <th>Metadata.Sequel?</th>\n",
       "      <th>Release.Console</th>\n",
       "      <th>Metrics.Review Score</th>\n",
       "      <th>Length.All PlayStyles.Average</th>\n",
       "      <th>Length.Completionists.Average</th>\n",
       "      <th>Length.Main + Extras.Average</th>\n",
       "      <th>Length.Main Story.Average</th>\n",
       "      <th>Metrics.Sales</th>\n",
       "    </tr>\n",
       "  </thead>\n",
       "  <tbody>\n",
       "    <tr>\n",
       "      <th>0</th>\n",
       "      <td>Super Mario 64 DS</td>\n",
       "      <td>2004</td>\n",
       "      <td>True</td>\n",
       "      <td>True</td>\n",
       "      <td>Action</td>\n",
       "      <td>True</td>\n",
       "      <td>Nintendo</td>\n",
       "      <td>True</td>\n",
       "      <td>Nintendo DS</td>\n",
       "      <td>85</td>\n",
       "      <td>22.716667</td>\n",
       "      <td>29.766667</td>\n",
       "      <td>24.916667</td>\n",
       "      <td>14.333333</td>\n",
       "      <td>4.69</td>\n",
       "    </tr>\n",
       "    <tr>\n",
       "      <th>1</th>\n",
       "      <td>Lumines: Puzzle Fusion</td>\n",
       "      <td>2004</td>\n",
       "      <td>True</td>\n",
       "      <td>True</td>\n",
       "      <td>Strategy</td>\n",
       "      <td>True</td>\n",
       "      <td>Ubisoft</td>\n",
       "      <td>True</td>\n",
       "      <td>Sony PSP</td>\n",
       "      <td>89</td>\n",
       "      <td>10.100000</td>\n",
       "      <td>0.000000</td>\n",
       "      <td>9.750000</td>\n",
       "      <td>10.333333</td>\n",
       "      <td>0.56</td>\n",
       "    </tr>\n",
       "    <tr>\n",
       "      <th>2</th>\n",
       "      <td>WarioWare Touched!</td>\n",
       "      <td>2004</td>\n",
       "      <td>True</td>\n",
       "      <td>True</td>\n",
       "      <td>Action,Racing / Driving,Sports</td>\n",
       "      <td>True</td>\n",
       "      <td>Nintendo</td>\n",
       "      <td>True</td>\n",
       "      <td>Nintendo DS</td>\n",
       "      <td>81</td>\n",
       "      <td>4.566667</td>\n",
       "      <td>10.000000</td>\n",
       "      <td>3.850000</td>\n",
       "      <td>1.916667</td>\n",
       "      <td>0.54</td>\n",
       "    </tr>\n",
       "    <tr>\n",
       "      <th>3</th>\n",
       "      <td>Hot Shots Golf: Open Tee</td>\n",
       "      <td>2004</td>\n",
       "      <td>True</td>\n",
       "      <td>True</td>\n",
       "      <td>Sports</td>\n",
       "      <td>True</td>\n",
       "      <td>Sony</td>\n",
       "      <td>True</td>\n",
       "      <td>Sony PSP</td>\n",
       "      <td>81</td>\n",
       "      <td>0.000000</td>\n",
       "      <td>0.000000</td>\n",
       "      <td>0.000000</td>\n",
       "      <td>0.000000</td>\n",
       "      <td>0.49</td>\n",
       "    </tr>\n",
       "    <tr>\n",
       "      <th>4</th>\n",
       "      <td>Spider-Man 2</td>\n",
       "      <td>2004</td>\n",
       "      <td>True</td>\n",
       "      <td>True</td>\n",
       "      <td>Action</td>\n",
       "      <td>True</td>\n",
       "      <td>Activision</td>\n",
       "      <td>True</td>\n",
       "      <td>Nintendo DS</td>\n",
       "      <td>61</td>\n",
       "      <td>13.250000</td>\n",
       "      <td>72.566667</td>\n",
       "      <td>12.766667</td>\n",
       "      <td>8.350000</td>\n",
       "      <td>0.45</td>\n",
       "    </tr>\n",
       "  </tbody>\n",
       "</table>\n",
       "</div>"
      ],
      "text/plain": [
       "                      Title  Release.Year  Features.Multiplatform?  \\\n",
       "0         Super Mario 64 DS          2004                     True   \n",
       "1    Lumines: Puzzle Fusion          2004                     True   \n",
       "2        WarioWare Touched!          2004                     True   \n",
       "3  Hot Shots Golf: Open Tee          2004                     True   \n",
       "4              Spider-Man 2          2004                     True   \n",
       "\n",
       "   Features.Online?                 Metadata.Genres  Metadata.Licensed?  \\\n",
       "0              True                          Action                True   \n",
       "1              True                        Strategy                True   \n",
       "2              True  Action,Racing / Driving,Sports                True   \n",
       "3              True                          Sports                True   \n",
       "4              True                          Action                True   \n",
       "\n",
       "  Metadata.Publishers  Metadata.Sequel? Release.Console  Metrics.Review Score  \\\n",
       "0            Nintendo              True     Nintendo DS                    85   \n",
       "1             Ubisoft              True        Sony PSP                    89   \n",
       "2            Nintendo              True     Nintendo DS                    81   \n",
       "3                Sony              True        Sony PSP                    81   \n",
       "4          Activision              True     Nintendo DS                    61   \n",
       "\n",
       "   Length.All PlayStyles.Average  Length.Completionists.Average  \\\n",
       "0                      22.716667                      29.766667   \n",
       "1                      10.100000                       0.000000   \n",
       "2                       4.566667                      10.000000   \n",
       "3                       0.000000                       0.000000   \n",
       "4                      13.250000                      72.566667   \n",
       "\n",
       "   Length.Main + Extras.Average  Length.Main Story.Average  Metrics.Sales  \n",
       "0                     24.916667                  14.333333           4.69  \n",
       "1                      9.750000                  10.333333           0.56  \n",
       "2                      3.850000                   1.916667           0.54  \n",
       "3                      0.000000                   0.000000           0.49  \n",
       "4                     12.766667                   8.350000           0.45  "
      ]
     },
     "execution_count": 6,
     "metadata": {},
     "output_type": "execute_result"
    }
   ],
   "source": [
    "vg.head()"
   ]
  },
  {
   "cell_type": "code",
   "execution_count": 7,
   "id": "b43065f9",
   "metadata": {},
   "outputs": [],
   "source": [
    "vg['Features.Multiplatform?'] = vg['Features.Multiplatform?'].astype(int)\n",
    "vg['Features.Online?'] = vg['Features.Online?'].astype(int)\n",
    "vg['Metadata.Licensed?'] = vg['Metadata.Licensed?'].astype(int)\n",
    "vg['Metadata.Sequel?'] = vg['Metadata.Sequel?'].astype(int)"
   ]
  },
  {
   "cell_type": "code",
   "execution_count": 8,
   "id": "7b948889",
   "metadata": {},
   "outputs": [],
   "source": [
    "vg['success'] = vg['Metrics.Sales'].apply(lambda x: 'successful' if x >= 1 else 'unsuccessful')"
   ]
  },
  {
   "cell_type": "code",
   "execution_count": 9,
   "id": "2b9a8bf0",
   "metadata": {},
   "outputs": [
    {
     "data": {
      "text/html": [
       "<div>\n",
       "<style scoped>\n",
       "    .dataframe tbody tr th:only-of-type {\n",
       "        vertical-align: middle;\n",
       "    }\n",
       "\n",
       "    .dataframe tbody tr th {\n",
       "        vertical-align: top;\n",
       "    }\n",
       "\n",
       "    .dataframe thead th {\n",
       "        text-align: right;\n",
       "    }\n",
       "</style>\n",
       "<table border=\"1\" class=\"dataframe\">\n",
       "  <thead>\n",
       "    <tr style=\"text-align: right;\">\n",
       "      <th></th>\n",
       "      <th>Title</th>\n",
       "      <th>Release.Year</th>\n",
       "      <th>Features.Multiplatform?</th>\n",
       "      <th>Features.Online?</th>\n",
       "      <th>Metadata.Genres</th>\n",
       "      <th>Metadata.Licensed?</th>\n",
       "      <th>Metadata.Publishers</th>\n",
       "      <th>Metadata.Sequel?</th>\n",
       "      <th>Release.Console</th>\n",
       "      <th>Metrics.Review Score</th>\n",
       "      <th>Length.All PlayStyles.Average</th>\n",
       "      <th>Length.Completionists.Average</th>\n",
       "      <th>Length.Main + Extras.Average</th>\n",
       "      <th>Length.Main Story.Average</th>\n",
       "      <th>Metrics.Sales</th>\n",
       "      <th>success</th>\n",
       "    </tr>\n",
       "  </thead>\n",
       "  <tbody>\n",
       "    <tr>\n",
       "      <th>0</th>\n",
       "      <td>Super Mario 64 DS</td>\n",
       "      <td>2004</td>\n",
       "      <td>1</td>\n",
       "      <td>1</td>\n",
       "      <td>Action</td>\n",
       "      <td>1</td>\n",
       "      <td>Nintendo</td>\n",
       "      <td>1</td>\n",
       "      <td>Nintendo DS</td>\n",
       "      <td>85</td>\n",
       "      <td>22.716667</td>\n",
       "      <td>29.766667</td>\n",
       "      <td>24.916667</td>\n",
       "      <td>14.333333</td>\n",
       "      <td>4.69</td>\n",
       "      <td>successful</td>\n",
       "    </tr>\n",
       "    <tr>\n",
       "      <th>1</th>\n",
       "      <td>Lumines: Puzzle Fusion</td>\n",
       "      <td>2004</td>\n",
       "      <td>1</td>\n",
       "      <td>1</td>\n",
       "      <td>Strategy</td>\n",
       "      <td>1</td>\n",
       "      <td>Ubisoft</td>\n",
       "      <td>1</td>\n",
       "      <td>Sony PSP</td>\n",
       "      <td>89</td>\n",
       "      <td>10.100000</td>\n",
       "      <td>0.000000</td>\n",
       "      <td>9.750000</td>\n",
       "      <td>10.333333</td>\n",
       "      <td>0.56</td>\n",
       "      <td>unsuccessful</td>\n",
       "    </tr>\n",
       "    <tr>\n",
       "      <th>2</th>\n",
       "      <td>WarioWare Touched!</td>\n",
       "      <td>2004</td>\n",
       "      <td>1</td>\n",
       "      <td>1</td>\n",
       "      <td>Action,Racing / Driving,Sports</td>\n",
       "      <td>1</td>\n",
       "      <td>Nintendo</td>\n",
       "      <td>1</td>\n",
       "      <td>Nintendo DS</td>\n",
       "      <td>81</td>\n",
       "      <td>4.566667</td>\n",
       "      <td>10.000000</td>\n",
       "      <td>3.850000</td>\n",
       "      <td>1.916667</td>\n",
       "      <td>0.54</td>\n",
       "      <td>unsuccessful</td>\n",
       "    </tr>\n",
       "    <tr>\n",
       "      <th>3</th>\n",
       "      <td>Hot Shots Golf: Open Tee</td>\n",
       "      <td>2004</td>\n",
       "      <td>1</td>\n",
       "      <td>1</td>\n",
       "      <td>Sports</td>\n",
       "      <td>1</td>\n",
       "      <td>Sony</td>\n",
       "      <td>1</td>\n",
       "      <td>Sony PSP</td>\n",
       "      <td>81</td>\n",
       "      <td>0.000000</td>\n",
       "      <td>0.000000</td>\n",
       "      <td>0.000000</td>\n",
       "      <td>0.000000</td>\n",
       "      <td>0.49</td>\n",
       "      <td>unsuccessful</td>\n",
       "    </tr>\n",
       "    <tr>\n",
       "      <th>4</th>\n",
       "      <td>Spider-Man 2</td>\n",
       "      <td>2004</td>\n",
       "      <td>1</td>\n",
       "      <td>1</td>\n",
       "      <td>Action</td>\n",
       "      <td>1</td>\n",
       "      <td>Activision</td>\n",
       "      <td>1</td>\n",
       "      <td>Nintendo DS</td>\n",
       "      <td>61</td>\n",
       "      <td>13.250000</td>\n",
       "      <td>72.566667</td>\n",
       "      <td>12.766667</td>\n",
       "      <td>8.350000</td>\n",
       "      <td>0.45</td>\n",
       "      <td>unsuccessful</td>\n",
       "    </tr>\n",
       "  </tbody>\n",
       "</table>\n",
       "</div>"
      ],
      "text/plain": [
       "                      Title  Release.Year  Features.Multiplatform?  \\\n",
       "0         Super Mario 64 DS          2004                        1   \n",
       "1    Lumines: Puzzle Fusion          2004                        1   \n",
       "2        WarioWare Touched!          2004                        1   \n",
       "3  Hot Shots Golf: Open Tee          2004                        1   \n",
       "4              Spider-Man 2          2004                        1   \n",
       "\n",
       "   Features.Online?                 Metadata.Genres  Metadata.Licensed?  \\\n",
       "0                 1                          Action                   1   \n",
       "1                 1                        Strategy                   1   \n",
       "2                 1  Action,Racing / Driving,Sports                   1   \n",
       "3                 1                          Sports                   1   \n",
       "4                 1                          Action                   1   \n",
       "\n",
       "  Metadata.Publishers  Metadata.Sequel? Release.Console  Metrics.Review Score  \\\n",
       "0            Nintendo                 1     Nintendo DS                    85   \n",
       "1             Ubisoft                 1        Sony PSP                    89   \n",
       "2            Nintendo                 1     Nintendo DS                    81   \n",
       "3                Sony                 1        Sony PSP                    81   \n",
       "4          Activision                 1     Nintendo DS                    61   \n",
       "\n",
       "   Length.All PlayStyles.Average  Length.Completionists.Average  \\\n",
       "0                      22.716667                      29.766667   \n",
       "1                      10.100000                       0.000000   \n",
       "2                       4.566667                      10.000000   \n",
       "3                       0.000000                       0.000000   \n",
       "4                      13.250000                      72.566667   \n",
       "\n",
       "   Length.Main + Extras.Average  Length.Main Story.Average  Metrics.Sales  \\\n",
       "0                     24.916667                  14.333333           4.69   \n",
       "1                      9.750000                  10.333333           0.56   \n",
       "2                      3.850000                   1.916667           0.54   \n",
       "3                      0.000000                   0.000000           0.49   \n",
       "4                     12.766667                   8.350000           0.45   \n",
       "\n",
       "        success  \n",
       "0    successful  \n",
       "1  unsuccessful  \n",
       "2  unsuccessful  \n",
       "3  unsuccessful  \n",
       "4  unsuccessful  "
      ]
     },
     "execution_count": 9,
     "metadata": {},
     "output_type": "execute_result"
    }
   ],
   "source": [
    "vg.head()"
   ]
  },
  {
   "cell_type": "code",
   "execution_count": 30,
   "id": "f48aa30d",
   "metadata": {},
   "outputs": [],
   "source": [
    "features=pd.DataFrame(vg,columns=['Features.Multiplatform?','Features.Online?','Metadata.Licensed?','Metadata.Sequel?','Metrics.Review Score','Length.All PlayStyles.Average','Length.Completionists.Average','Length.Main + Extras.Average','Length.Main Story.Average'])"
   ]
  },
  {
   "cell_type": "code",
   "execution_count": 31,
   "id": "2f922cbc",
   "metadata": {},
   "outputs": [
    {
     "data": {
      "text/html": [
       "<div>\n",
       "<style scoped>\n",
       "    .dataframe tbody tr th:only-of-type {\n",
       "        vertical-align: middle;\n",
       "    }\n",
       "\n",
       "    .dataframe tbody tr th {\n",
       "        vertical-align: top;\n",
       "    }\n",
       "\n",
       "    .dataframe thead th {\n",
       "        text-align: right;\n",
       "    }\n",
       "</style>\n",
       "<table border=\"1\" class=\"dataframe\">\n",
       "  <thead>\n",
       "    <tr style=\"text-align: right;\">\n",
       "      <th></th>\n",
       "      <th>Features.Multiplatform?</th>\n",
       "      <th>Features.Online?</th>\n",
       "      <th>Metadata.Licensed?</th>\n",
       "      <th>Metadata.Sequel?</th>\n",
       "      <th>Metrics.Review Score</th>\n",
       "      <th>Length.All PlayStyles.Average</th>\n",
       "      <th>Length.Completionists.Average</th>\n",
       "      <th>Length.Main + Extras.Average</th>\n",
       "      <th>Length.Main Story.Average</th>\n",
       "    </tr>\n",
       "  </thead>\n",
       "  <tbody>\n",
       "    <tr>\n",
       "      <th>0</th>\n",
       "      <td>1</td>\n",
       "      <td>1</td>\n",
       "      <td>1</td>\n",
       "      <td>1</td>\n",
       "      <td>85</td>\n",
       "      <td>22.716667</td>\n",
       "      <td>29.766667</td>\n",
       "      <td>24.916667</td>\n",
       "      <td>14.333333</td>\n",
       "    </tr>\n",
       "    <tr>\n",
       "      <th>1</th>\n",
       "      <td>1</td>\n",
       "      <td>1</td>\n",
       "      <td>1</td>\n",
       "      <td>1</td>\n",
       "      <td>89</td>\n",
       "      <td>10.100000</td>\n",
       "      <td>0.000000</td>\n",
       "      <td>9.750000</td>\n",
       "      <td>10.333333</td>\n",
       "    </tr>\n",
       "    <tr>\n",
       "      <th>2</th>\n",
       "      <td>1</td>\n",
       "      <td>1</td>\n",
       "      <td>1</td>\n",
       "      <td>1</td>\n",
       "      <td>81</td>\n",
       "      <td>4.566667</td>\n",
       "      <td>10.000000</td>\n",
       "      <td>3.850000</td>\n",
       "      <td>1.916667</td>\n",
       "    </tr>\n",
       "    <tr>\n",
       "      <th>3</th>\n",
       "      <td>1</td>\n",
       "      <td>1</td>\n",
       "      <td>1</td>\n",
       "      <td>1</td>\n",
       "      <td>81</td>\n",
       "      <td>0.000000</td>\n",
       "      <td>0.000000</td>\n",
       "      <td>0.000000</td>\n",
       "      <td>0.000000</td>\n",
       "    </tr>\n",
       "    <tr>\n",
       "      <th>4</th>\n",
       "      <td>1</td>\n",
       "      <td>1</td>\n",
       "      <td>1</td>\n",
       "      <td>1</td>\n",
       "      <td>61</td>\n",
       "      <td>13.250000</td>\n",
       "      <td>72.566667</td>\n",
       "      <td>12.766667</td>\n",
       "      <td>8.350000</td>\n",
       "    </tr>\n",
       "  </tbody>\n",
       "</table>\n",
       "</div>"
      ],
      "text/plain": [
       "   Features.Multiplatform?  Features.Online?  Metadata.Licensed?  \\\n",
       "0                        1                 1                   1   \n",
       "1                        1                 1                   1   \n",
       "2                        1                 1                   1   \n",
       "3                        1                 1                   1   \n",
       "4                        1                 1                   1   \n",
       "\n",
       "   Metadata.Sequel?  Metrics.Review Score  Length.All PlayStyles.Average  \\\n",
       "0                 1                    85                      22.716667   \n",
       "1                 1                    89                      10.100000   \n",
       "2                 1                    81                       4.566667   \n",
       "3                 1                    81                       0.000000   \n",
       "4                 1                    61                      13.250000   \n",
       "\n",
       "   Length.Completionists.Average  Length.Main + Extras.Average  \\\n",
       "0                      29.766667                     24.916667   \n",
       "1                       0.000000                      9.750000   \n",
       "2                      10.000000                      3.850000   \n",
       "3                       0.000000                      0.000000   \n",
       "4                      72.566667                     12.766667   \n",
       "\n",
       "   Length.Main Story.Average  \n",
       "0                  14.333333  \n",
       "1                  10.333333  \n",
       "2                   1.916667  \n",
       "3                   0.000000  \n",
       "4                   8.350000  "
      ]
     },
     "execution_count": 31,
     "metadata": {},
     "output_type": "execute_result"
    }
   ],
   "source": [
    "features.head()"
   ]
  },
  {
   "cell_type": "code",
   "execution_count": 32,
   "id": "f6ddf3fc",
   "metadata": {},
   "outputs": [],
   "source": [
    "target=pd.DataFrame(vg,columns=['success'])"
   ]
  },
  {
   "cell_type": "code",
   "execution_count": 33,
   "id": "0fc71f08",
   "metadata": {},
   "outputs": [
    {
     "data": {
      "text/html": [
       "<div>\n",
       "<style scoped>\n",
       "    .dataframe tbody tr th:only-of-type {\n",
       "        vertical-align: middle;\n",
       "    }\n",
       "\n",
       "    .dataframe tbody tr th {\n",
       "        vertical-align: top;\n",
       "    }\n",
       "\n",
       "    .dataframe thead th {\n",
       "        text-align: right;\n",
       "    }\n",
       "</style>\n",
       "<table border=\"1\" class=\"dataframe\">\n",
       "  <thead>\n",
       "    <tr style=\"text-align: right;\">\n",
       "      <th></th>\n",
       "      <th>success</th>\n",
       "    </tr>\n",
       "  </thead>\n",
       "  <tbody>\n",
       "    <tr>\n",
       "      <th>0</th>\n",
       "      <td>successful</td>\n",
       "    </tr>\n",
       "    <tr>\n",
       "      <th>1</th>\n",
       "      <td>unsuccessful</td>\n",
       "    </tr>\n",
       "    <tr>\n",
       "      <th>2</th>\n",
       "      <td>unsuccessful</td>\n",
       "    </tr>\n",
       "    <tr>\n",
       "      <th>3</th>\n",
       "      <td>unsuccessful</td>\n",
       "    </tr>\n",
       "    <tr>\n",
       "      <th>4</th>\n",
       "      <td>unsuccessful</td>\n",
       "    </tr>\n",
       "  </tbody>\n",
       "</table>\n",
       "</div>"
      ],
      "text/plain": [
       "        success\n",
       "0    successful\n",
       "1  unsuccessful\n",
       "2  unsuccessful\n",
       "3  unsuccessful\n",
       "4  unsuccessful"
      ]
     },
     "execution_count": 33,
     "metadata": {},
     "output_type": "execute_result"
    }
   ],
   "source": [
    "target.head()"
   ]
  },
  {
   "cell_type": "code",
   "execution_count": 34,
   "id": "3d54ff91",
   "metadata": {},
   "outputs": [
    {
     "data": {
      "text/plain": [
       "unsuccessful    1073\n",
       "successful       139\n",
       "Name: success, dtype: int64"
      ]
     },
     "execution_count": 34,
     "metadata": {},
     "output_type": "execute_result"
    }
   ],
   "source": [
    "target.success.value_counts()\n"
   ]
  },
  {
   "cell_type": "code",
   "execution_count": 35,
   "id": "c2aab121",
   "metadata": {},
   "outputs": [],
   "source": [
    "from sklearn.model_selection import train_test_split\n",
    "\n",
    "features_train, features_test, target_train, target_test = train_test_split(features, target, test_size=0.33, random_state=1, shuffle=True)"
   ]
  },
  {
   "cell_type": "code",
   "execution_count": 36,
   "id": "3886deb4",
   "metadata": {},
   "outputs": [],
   "source": [
    "from sklearn.preprocessing import StandardScaler # Library to standardise data\n",
    "from sklearn.linear_model import LogisticRegression # Library to use Logistic Regression\n",
    "from sklearn.pipeline import Pipeline # Library to create a pipeline\n",
    "\n",
    "# Building a pipeline\n",
    "pipe = Pipeline([('scaler', StandardScaler()), # scaling features\n",
    "                 ('logreg', LogisticRegression(C=1, random_state=0))]) # logistic regression\n",
    "\n",
    "# Implementing our pipe\n",
    "pipe.fit(features_train, target_train.success)\n",
    "    \n",
    "# Use the trained model to create predictions on train and test data\n",
    "target_train_pred = pipe.predict(features_train)\n",
    "target_test_pred = pipe.predict(features_test)"
   ]
  },
  {
   "cell_type": "code",
   "execution_count": 37,
   "id": "f7641118",
   "metadata": {},
   "outputs": [
    {
     "data": {
      "text/html": [
       "<div>\n",
       "<style scoped>\n",
       "    .dataframe tbody tr th:only-of-type {\n",
       "        vertical-align: middle;\n",
       "    }\n",
       "\n",
       "    .dataframe tbody tr th {\n",
       "        vertical-align: top;\n",
       "    }\n",
       "\n",
       "    .dataframe thead th {\n",
       "        text-align: right;\n",
       "    }\n",
       "</style>\n",
       "<table border=\"1\" class=\"dataframe\">\n",
       "  <thead>\n",
       "    <tr style=\"text-align: right;\">\n",
       "      <th></th>\n",
       "      <th>actual</th>\n",
       "      <th>fitted</th>\n",
       "    </tr>\n",
       "  </thead>\n",
       "  <tbody>\n",
       "    <tr>\n",
       "      <th>0</th>\n",
       "      <td>unsuccessful</td>\n",
       "      <td>unsuccessful</td>\n",
       "    </tr>\n",
       "    <tr>\n",
       "      <th>1</th>\n",
       "      <td>unsuccessful</td>\n",
       "      <td>unsuccessful</td>\n",
       "    </tr>\n",
       "    <tr>\n",
       "      <th>2</th>\n",
       "      <td>successful</td>\n",
       "      <td>unsuccessful</td>\n",
       "    </tr>\n",
       "    <tr>\n",
       "      <th>3</th>\n",
       "      <td>unsuccessful</td>\n",
       "      <td>unsuccessful</td>\n",
       "    </tr>\n",
       "    <tr>\n",
       "      <th>4</th>\n",
       "      <td>unsuccessful</td>\n",
       "      <td>unsuccessful</td>\n",
       "    </tr>\n",
       "  </tbody>\n",
       "</table>\n",
       "</div>"
      ],
      "text/plain": [
       "         actual        fitted\n",
       "0  unsuccessful  unsuccessful\n",
       "1  unsuccessful  unsuccessful\n",
       "2    successful  unsuccessful\n",
       "3  unsuccessful  unsuccessful\n",
       "4  unsuccessful  unsuccessful"
      ]
     },
     "execution_count": 37,
     "metadata": {},
     "output_type": "execute_result"
    }
   ],
   "source": [
    "train = pd.DataFrame({\"actual\": target_train.success.values,\n",
    "                      \"fitted\": target_train_pred})\n",
    "train.head()"
   ]
  },
  {
   "cell_type": "code",
   "execution_count": 38,
   "id": "40d53f7c",
   "metadata": {},
   "outputs": [
    {
     "data": {
      "text/html": [
       "<div>\n",
       "<style scoped>\n",
       "    .dataframe tbody tr th:only-of-type {\n",
       "        vertical-align: middle;\n",
       "    }\n",
       "\n",
       "    .dataframe tbody tr th {\n",
       "        vertical-align: top;\n",
       "    }\n",
       "\n",
       "    .dataframe thead th {\n",
       "        text-align: right;\n",
       "    }\n",
       "</style>\n",
       "<table border=\"1\" class=\"dataframe\">\n",
       "  <thead>\n",
       "    <tr style=\"text-align: right;\">\n",
       "      <th></th>\n",
       "      <th>actual</th>\n",
       "      <th>fitted</th>\n",
       "    </tr>\n",
       "  </thead>\n",
       "  <tbody>\n",
       "    <tr>\n",
       "      <th>0</th>\n",
       "      <td>unsuccessful</td>\n",
       "      <td>unsuccessful</td>\n",
       "    </tr>\n",
       "    <tr>\n",
       "      <th>1</th>\n",
       "      <td>unsuccessful</td>\n",
       "      <td>unsuccessful</td>\n",
       "    </tr>\n",
       "    <tr>\n",
       "      <th>2</th>\n",
       "      <td>unsuccessful</td>\n",
       "      <td>unsuccessful</td>\n",
       "    </tr>\n",
       "    <tr>\n",
       "      <th>3</th>\n",
       "      <td>unsuccessful</td>\n",
       "      <td>unsuccessful</td>\n",
       "    </tr>\n",
       "    <tr>\n",
       "      <th>4</th>\n",
       "      <td>unsuccessful</td>\n",
       "      <td>unsuccessful</td>\n",
       "    </tr>\n",
       "  </tbody>\n",
       "</table>\n",
       "</div>"
      ],
      "text/plain": [
       "         actual        fitted\n",
       "0  unsuccessful  unsuccessful\n",
       "1  unsuccessful  unsuccessful\n",
       "2  unsuccessful  unsuccessful\n",
       "3  unsuccessful  unsuccessful\n",
       "4  unsuccessful  unsuccessful"
      ]
     },
     "execution_count": 38,
     "metadata": {},
     "output_type": "execute_result"
    }
   ],
   "source": [
    "test = pd.DataFrame({\"actual\": target_test.success.values,\n",
    "                     \"fitted\": target_test_pred})\n",
    "test.head()"
   ]
  },
  {
   "cell_type": "code",
   "execution_count": 39,
   "id": "e2bde940",
   "metadata": {},
   "outputs": [
    {
     "name": "stdout",
     "output_type": "stream",
     "text": [
      "Accuracy on train: 0.9002463054187192\n",
      "Accuracy on test: 0.9025\n"
     ]
    }
   ],
   "source": [
    "from sklearn.metrics import accuracy_score\n",
    "\n",
    "print(\"Accuracy on train:\", accuracy_score(train.actual, train.fitted))\n",
    "print(\"Accuracy on test:\", accuracy_score(test.actual, test.fitted))"
   ]
  },
  {
   "cell_type": "code",
   "execution_count": 40,
   "id": "75673d3e",
   "metadata": {},
   "outputs": [
    {
     "data": {
      "text/plain": [
       "0.8853135313531353"
      ]
     },
     "execution_count": 40,
     "metadata": {},
     "output_type": "execute_result"
    }
   ],
   "source": [
    "from sklearn.dummy import DummyClassifier\n",
    "\n",
    "dummy_clf = DummyClassifier(strategy=\"most_frequent\")\n",
    "dummy_clf.fit(features, target)\n",
    "DummyClassifier(strategy='most_frequent')\n",
    "dummy_clf.score(features, target)"
   ]
  },
  {
   "cell_type": "code",
   "execution_count": 41,
   "id": "9175c6b6",
   "metadata": {},
   "outputs": [
    {
     "name": "stdout",
     "output_type": "stream",
     "text": [
      "[[  9  39]\n",
      " [  0 352]]\n"
     ]
    }
   ],
   "source": [
    "from sklearn.metrics import confusion_matrix\n",
    "\n",
    "cm = confusion_matrix(test.actual, test.fitted)\n",
    "print(cm)"
   ]
  },
  {
   "cell_type": "code",
   "execution_count": 42,
   "id": "6285a5b2",
   "metadata": {},
   "outputs": [
    {
     "data": {
      "text/plain": [
       "(array([1.        , 0.90025575]),\n",
       " array([0.1875, 1.    ]),\n",
       " array([0.31578947, 0.94751009]),\n",
       " array([ 48, 352], dtype=int64))"
      ]
     },
     "execution_count": 42,
     "metadata": {},
     "output_type": "execute_result"
    }
   ],
   "source": [
    "from sklearn.metrics import precision_recall_fscore_support\n",
    "\n",
    "precision_recall_fscore_support(test.actual, test.fitted, average=None)"
   ]
  },
  {
   "cell_type": "code",
   "execution_count": 43,
   "id": "963cb9fc",
   "metadata": {},
   "outputs": [
    {
     "data": {
      "text/plain": [
       "(0.9501278772378516, 0.59375, 0.631649783948431, None)"
      ]
     },
     "execution_count": 43,
     "metadata": {},
     "output_type": "execute_result"
    }
   ],
   "source": [
    "precision_recall_fscore_support(test.actual, test.fitted, average=\"macro\")"
   ]
  },
  {
   "cell_type": "code",
   "execution_count": 44,
   "id": "19e89912",
   "metadata": {},
   "outputs": [
    {
     "data": {
      "text/plain": [
       "array([[ 0.        ,  0.        ,  0.        ,  0.        , -1.47315443,\n",
       "         0.56128838, -0.27008045, -0.37265276, -0.07114514]])"
      ]
     },
     "execution_count": 44,
     "metadata": {},
     "output_type": "execute_result"
    }
   ],
   "source": [
    "pipe[1].coef_"
   ]
  },
  {
   "cell_type": "code",
   "execution_count": 45,
   "id": "bde92ae7",
   "metadata": {},
   "outputs": [
    {
     "data": {
      "image/png": "[encoded data removed]",
      "text/plain": [
       "<Figure size 720x360 with 1 Axes>"
      ]
     },
     "metadata": {},
     "output_type": "display_data"
    }
   ],
   "source": [
    "coef = pd.DataFrame({\"value\": pipe[1].coef_[0]})\n",
    "coef[\"beta\"] = features.columns\n",
    "\n",
    "import seaborn as sb\n",
    "sb.set(rc={'figure.figsize':(10,5)})\n",
    "sb.barplot(data = coef, x=\"beta\", y=\"value\", order=coef.sort_values('value', ascending = False).beta)\n",
    "\n",
    "import matplotlib.pyplot as plt\n",
    "fig = plt.gcf()\n",
    "fig.autofmt_xdate()"
   ]
  },
  {
   "cell_type": "code",
   "execution_count": null,
   "id": "170603fe",
   "metadata": {},
   "outputs": [],
   "source": []
  },
  {
   "cell_type": "code",
   "execution_count": 9,
   "id": "81d04647",
   "metadata": {},
   "outputs": [],
   "source": [
    "from sklearn.model_selection import train_test_split\n",
    "\n",
    "features_tune, features_val, target_tune, target_val = train_test_split(features, target, test_size=0.35, random_state=1, shuffle=True)"
   ]
  },
  {
   "cell_type": "code",
   "execution_count": 12,
   "id": "d62cbff8",
   "metadata": {},
   "outputs": [],
   "source": [
    "from sklearn.ensemble import RandomForestClassifier\n",
    "from sklearn.metrics import accuracy_score\n",
    "\n",
    "acc_train = []\n",
    "acc_test = []\n",
    "max_feature_set = range(1, features_tune.shape[1])\n",
    "\n",
    "for num_f in max_feature_set:\n",
    "    rndf_clf = RandomForestClassifier(max_features=num_f, oob_score=True, random_state=10)\n",
    "    rndf_clf.fit(features_tune, target_tune.success) # no need to use train-test in Random Forest, we are using the oob_score\n",
    "    acc_train.append( accuracy_score(target_tune.success, rndf_clf.predict(features_tune)) )\n",
    "    acc_test.append( rndf_clf.oob_score_ )"
   ]
  },
  {
   "cell_type": "code",
   "execution_count": 13,
   "id": "99f9232a",
   "metadata": {},
   "outputs": [
    {
     "data": {
      "text/html": [
       "<div>\n",
       "<style scoped>\n",
       "    .dataframe tbody tr th:only-of-type {\n",
       "        vertical-align: middle;\n",
       "    }\n",
       "\n",
       "    .dataframe tbody tr th {\n",
       "        vertical-align: top;\n",
       "    }\n",
       "\n",
       "    .dataframe thead th {\n",
       "        text-align: right;\n",
       "    }\n",
       "</style>\n",
       "<table border=\"1\" class=\"dataframe\">\n",
       "  <thead>\n",
       "    <tr style=\"text-align: right;\">\n",
       "      <th></th>\n",
       "      <th>max_features</th>\n",
       "      <th>acc_train</th>\n",
       "      <th>acc_test</th>\n",
       "    </tr>\n",
       "  </thead>\n",
       "  <tbody>\n",
       "    <tr>\n",
       "      <th>0</th>\n",
       "      <td>1</td>\n",
       "      <td>0.992376</td>\n",
       "      <td>0.891995</td>\n",
       "    </tr>\n",
       "    <tr>\n",
       "      <th>1</th>\n",
       "      <td>2</td>\n",
       "      <td>0.992376</td>\n",
       "      <td>0.890724</td>\n",
       "    </tr>\n",
       "    <tr>\n",
       "      <th>2</th>\n",
       "      <td>3</td>\n",
       "      <td>0.992376</td>\n",
       "      <td>0.894536</td>\n",
       "    </tr>\n",
       "    <tr>\n",
       "      <th>3</th>\n",
       "      <td>4</td>\n",
       "      <td>0.992376</td>\n",
       "      <td>0.894536</td>\n",
       "    </tr>\n",
       "    <tr>\n",
       "      <th>4</th>\n",
       "      <td>5</td>\n",
       "      <td>0.992376</td>\n",
       "      <td>0.893266</td>\n",
       "    </tr>\n",
       "  </tbody>\n",
       "</table>\n",
       "</div>"
      ],
      "text/plain": [
       "   max_features  acc_train  acc_test\n",
       "0             1   0.992376  0.891995\n",
       "1             2   0.992376  0.890724\n",
       "2             3   0.992376  0.894536\n",
       "3             4   0.992376  0.894536\n",
       "4             5   0.992376  0.893266"
      ]
     },
     "execution_count": 13,
     "metadata": {},
     "output_type": "execute_result"
    }
   ],
   "source": [
    "accuracies = pd.DataFrame({ \"max_features\": max_feature_set, \n",
    "                           \"acc_train\": acc_train, \n",
    "                           \"acc_test\": acc_test})\n",
    "accuracies.head()"
   ]
  },
  {
   "cell_type": "code",
   "execution_count": 14,
   "id": "bed68547",
   "metadata": {},
   "outputs": [
    {
     "data": {
      "image/png": "[encoded data removed]",
      "text/plain": [
       "<Figure size 864x648 with 1 Axes>"
      ]
     },
     "metadata": {},
     "output_type": "display_data"
    }
   ],
   "source": [
    "import seaborn as sb\n",
    "\n",
    "sb.set(rc={'figure.figsize':(12,9)})\n",
    "plot = sb.lineplot(data = pd.melt(accuracies, id_vars=['max_features'], value_vars=['acc_train', 'acc_test']),\n",
    "                   x=\"max_features\", y=\"value\", hue=\"variable\")"
   ]
  },
  {
   "cell_type": "code",
   "execution_count": 15,
   "id": "4d185de9",
   "metadata": {},
   "outputs": [
    {
     "name": "stdout",
     "output_type": "stream",
     "text": [
      "tuned tuned_max_features: 8\n"
     ]
    }
   ],
   "source": [
    "tuned_max_features = max_feature_set[np.argmax(acc_test)]\n",
    "print(\"tuned tuned_max_features:\", tuned_max_features)"
   ]
  },
  {
   "cell_type": "code",
   "execution_count": 18,
   "id": "ba6a8a5d",
   "metadata": {},
   "outputs": [
    {
     "data": {
      "text/html": [
       "<div>\n",
       "<style scoped>\n",
       "    .dataframe tbody tr th:only-of-type {\n",
       "        vertical-align: middle;\n",
       "    }\n",
       "\n",
       "    .dataframe tbody tr th {\n",
       "        vertical-align: top;\n",
       "    }\n",
       "\n",
       "    .dataframe thead th {\n",
       "        text-align: right;\n",
       "    }\n",
       "</style>\n",
       "<table border=\"1\" class=\"dataframe\">\n",
       "  <thead>\n",
       "    <tr style=\"text-align: right;\">\n",
       "      <th></th>\n",
       "      <th>max_features</th>\n",
       "      <th>acc test</th>\n",
       "    </tr>\n",
       "  </thead>\n",
       "  <tbody>\n",
       "    <tr>\n",
       "      <th>0</th>\n",
       "      <td>1</td>\n",
       "      <td>0.893244</td>\n",
       "    </tr>\n",
       "    <tr>\n",
       "      <th>1</th>\n",
       "      <td>2</td>\n",
       "      <td>0.898331</td>\n",
       "    </tr>\n",
       "    <tr>\n",
       "      <th>2</th>\n",
       "      <td>3</td>\n",
       "      <td>0.897057</td>\n",
       "    </tr>\n",
       "    <tr>\n",
       "      <th>3</th>\n",
       "      <td>4</td>\n",
       "      <td>0.898315</td>\n",
       "    </tr>\n",
       "    <tr>\n",
       "      <th>4</th>\n",
       "      <td>5</td>\n",
       "      <td>0.897041</td>\n",
       "    </tr>\n",
       "  </tbody>\n",
       "</table>\n",
       "</div>"
      ],
      "text/plain": [
       "   max_features  acc test\n",
       "0             1  0.893244\n",
       "1             2  0.898331\n",
       "2             3  0.897057\n",
       "3             4  0.898315\n",
       "4             5  0.897041"
      ]
     },
     "execution_count": 18,
     "metadata": {},
     "output_type": "execute_result"
    }
   ],
   "source": [
    "from sklearn.model_selection import cross_val_score\n",
    "\n",
    "acc_test = []\n",
    "max_feature_set = range(1, features_tune.shape[1])\n",
    "\n",
    "for num_f in max_feature_set:\n",
    "    rndf_clf = RandomForestClassifier(max_features=num_f, oob_score=False, random_state=10)\n",
    "    rndf_clf.fit(features_tune, target_tune.success)\n",
    "    scores = cross_val_score(rndf_clf, features_tune, target_tune.success, cv=5, scoring='accuracy')\n",
    "    acc_test.append( np.mean(scores) )\n",
    "\n",
    "accuracies = pd.DataFrame({\n",
    "    \"max_features\": max_feature_set, \n",
    "    \"acc test\": acc_test})\n",
    "accuracies.head()"
   ]
  },
  {
   "cell_type": "code",
   "execution_count": 19,
   "id": "cfee6120",
   "metadata": {},
   "outputs": [
    {
     "name": "stdout",
     "output_type": "stream",
     "text": [
      "Accuracy on tuning data: 0.9923761118170267\n",
      "Accuracy on validation data: 0.9176470588235294\n"
     ]
    }
   ],
   "source": [
    "rndf_clf = RandomForestClassifier(max_features=tuned_max_features, oob_score=False, random_state=10)\n",
    "rndf_clf.fit(features_tune, target_tune.success) # no need to use train-test in Random Forest, we are using the oob_score\n",
    "\n",
    "print( \"Accuracy on tuning data:\", accuracy_score(target_tune.success, rndf_clf.predict(features_tune)) )\n",
    "print( \"Accuracy on validation data:\", accuracy_score(target_val.success, rndf_clf.predict(features_val)) )\n"
   ]
  },
  {
   "cell_type": "code",
   "execution_count": 20,
   "id": "55a7c60a",
   "metadata": {},
   "outputs": [
    {
     "data": {
      "text/plain": [
       "0.8853135313531353"
      ]
     },
     "execution_count": 20,
     "metadata": {},
     "output_type": "execute_result"
    }
   ],
   "source": [
    "from sklearn.dummy import DummyClassifier\n",
    "\n",
    "dummy_clf = DummyClassifier(strategy=\"most_frequent\")\n",
    "dummy_clf.fit(features, target)\n",
    "DummyClassifier(strategy='most_frequent')\n",
    "dummy_clf.score(features, target)"
   ]
  },
  {
   "cell_type": "code",
   "execution_count": 21,
   "id": "eb85c0dc",
   "metadata": {},
   "outputs": [
    {
     "data": {
      "text/plain": [
       "<AxesSubplot:xlabel='importance', ylabel='feature'>"
      ]
     },
     "execution_count": 21,
     "metadata": {},
     "output_type": "execute_result"
    },
    {
     "data": {
      "image/png": "[encoded data removed]",
      "text/plain": [
       "<Figure size 864x576 with 1 Axes>"
      ]
     },
     "metadata": {},
     "output_type": "display_data"
    }
   ],
   "source": [
    "import seaborn as sb\n",
    "\n",
    "features = pd.DataFrame({\n",
    "    \"feature\": features.columns, \n",
    "    \"importance\": rndf_clf.feature_importances_\n",
    "})\n",
    "\n",
    "sb.set(rc={'figure.figsize':(12,8)})\n",
    "sb.barplot(\n",
    "    x = \"importance\", \n",
    "    y = \"feature\", \n",
    "    data = features,\n",
    "    order = features.sort_values('importance', ascending = False).feature\n",
    ")"
   ]
  },
  {
   "cell_type": "code",
   "execution_count": null,
   "id": "c2fec3bb",
   "metadata": {},
   "outputs": [],
   "source": []
  }
 ],
 "metadata": {
  "kernelspec": {
   "display_name": "Python 3 (ipykernel)",
   "language": "python",
   "name": "python3"
  },
  "language_info": {
   "codemirror_mode": {
    "name": "ipython",
    "version": 3
   },
   "file_extension": ".py",
   "mimetype": "text/x-python",
   "name": "python",
   "nbconvert_exporter": "python",
   "pygments_lexer": "ipython3",
   "version": "3.9.12"
  }
 },
 "nbformat": 4,
 "nbformat_minor": 5
}
